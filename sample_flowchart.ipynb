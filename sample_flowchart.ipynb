{
 "cells": [
  {
   "cell_type": "markdown",
   "id": "4e9c04a2-877f-4796-bf4f-a4955fcb99e7",
   "metadata": {},
   "source": [
    "# It will try generate the inclusion diagram for a study based on a pandas dataframe \n",
    "\n",
    "The input will be a pandas dataframe of the format:\n",
    "PID (INT), CONDITIONS (Boleans) \n",
    "\n",
    "The output wil be: JS graph \n",
    "\n",
    "# Advanced add two list of labels as arguments\n",
    "1. For the remaining subjects (N)\n",
    "2. For the exclusion texts (N-1)\n",
    "\n",
    "To do:\n",
    "Add Final group generation and their labels"
   ]
  },
  {
   "cell_type": "code",
   "execution_count": 2,
   "id": "a6ccb385-4220-47f6-a520-7305b88d0888",
   "metadata": {},
   "outputs": [
    {
     "name": "stdout",
     "output_type": "stream",
     "text": [
      "The autoreload extension is already loaded. To reload it, use:\n",
      "  %reload_ext autoreload\n"
     ]
    }
   ],
   "source": [
    "from pyflowchart import *\n",
    "import numpy as np\n",
    "import random\n",
    "import pandas as pd\n",
    "%load_ext autoreload\n",
    "%autoreload 2"
   ]
  },
  {
   "cell_type": "code",
   "execution_count": 2,
   "id": "382eaa05-46cc-466a-8f5a-736ed2667d90",
   "metadata": {},
   "outputs": [],
   "source": [
    "# 1. Make a two nodes that connects one to anothter"
   ]
  },
  {
   "cell_type": "code",
   "execution_count": 3,
   "id": "6826aa90-ad79-415f-91d7-968a2aa8b6e1",
   "metadata": {},
   "outputs": [],
   "source": [
    "num_sub = 100\n",
    "pid_col = np.random.choice(1000, num_sub, replace=False)\n",
    "calibration = np.random.rand(num_sub) < .9\n",
    "summary = np.random.rand(num_sub) < .9\n",
    "duration = np.random.rand(num_sub) < .9\n"
   ]
  },
  {
   "cell_type": "code",
   "execution_count": 5,
   "id": "519df6af-b30d-4076-9774-b323472a66cb",
   "metadata": {},
   "outputs": [],
   "source": [
    "test_df = pd.DataFrame({'pid': pid_col,\n",
    "                       'calibration': calibration,\n",
    "                       'summary': summary,\n",
    "                       'duration': duration})\n"
   ]
  },
  {
   "cell_type": "code",
   "execution_count": 6,
   "id": "4c62a5f2-9e6b-4ed1-bb8d-598f55c88555",
   "metadata": {},
   "outputs": [
    {
     "data": {
      "text/plain": "   pid  calibration  summary  duration\n0  233         True     True     False\n1  985         True     True     False\n2  148         True     True      True\n3  741         True     True      True\n4  635         True     True      True",
      "text/html": "<div>\n<style scoped>\n    .dataframe tbody tr th:only-of-type {\n        vertical-align: middle;\n    }\n\n    .dataframe tbody tr th {\n        vertical-align: top;\n    }\n\n    .dataframe thead th {\n        text-align: right;\n    }\n</style>\n<table border=\"1\" class=\"dataframe\">\n  <thead>\n    <tr style=\"text-align: right;\">\n      <th></th>\n      <th>pid</th>\n      <th>calibration</th>\n      <th>summary</th>\n      <th>duration</th>\n    </tr>\n  </thead>\n  <tbody>\n    <tr>\n      <th>0</th>\n      <td>233</td>\n      <td>True</td>\n      <td>True</td>\n      <td>False</td>\n    </tr>\n    <tr>\n      <th>1</th>\n      <td>985</td>\n      <td>True</td>\n      <td>True</td>\n      <td>False</td>\n    </tr>\n    <tr>\n      <th>2</th>\n      <td>148</td>\n      <td>True</td>\n      <td>True</td>\n      <td>True</td>\n    </tr>\n    <tr>\n      <th>3</th>\n      <td>741</td>\n      <td>True</td>\n      <td>True</td>\n      <td>True</td>\n    </tr>\n    <tr>\n      <th>4</th>\n      <td>635</td>\n      <td>True</td>\n      <td>True</td>\n      <td>True</td>\n    </tr>\n  </tbody>\n</table>\n</div>"
     },
     "execution_count": 6,
     "metadata": {},
     "output_type": "execute_result"
    }
   ],
   "source": [
    "test_df.head()"
   ]
  },
  {
   "cell_type": "code",
   "execution_count": 7,
   "id": "880d238f-dcd3-41f9-ad6c-46da33489b18",
   "metadata": {},
   "outputs": [],
   "source": [
    "from pyinclusion.core import gen_graph"
   ]
  },
  {
   "cell_type": "code",
   "execution_count": 8,
   "id": "afe96ae8-1534-4f30-84e4-1c5ab46b197c",
   "metadata": {},
   "outputs": [
    {
     "name": "stdout",
     "output_type": "stream",
     "text": [
      "st0=>start: Recruited samples\n",
      " n=100\n",
      "cond2(align-next=no)=>condition: Fulfilled condtions\n",
      " n=100\n",
      "cond4(align-next=no)=>condition: Fulfilled condtions\n",
      " n=95\n",
      "cond6(align-next=no)=>condition: Fulfilled condtions\n",
      " n=86\n",
      "e1=>end: Subjects included\n",
      " n=80\n",
      "op7=>operation: Excluded due to duration\n",
      " n=6\n",
      "op5=>operation: Excluded due to summary\n",
      " n=9\n",
      "op3=>operation: Excluded due to calibration\n",
      " n=5\n",
      "\n",
      "st0->cond2\n",
      "cond2->\n",
      "cond2->\n",
      "cond2(yes)->cond4\n",
      "cond4->\n",
      "cond4->\n",
      "cond4(yes)->cond6\n",
      "cond6->\n",
      "cond6->\n",
      "cond6(yes)->e1\n",
      "cond6(no)->op7\n",
      "cond4(no)->op5\n",
      "cond2(no)->op3\n",
      "\n"
     ]
    }
   ],
   "source": [
    "mygraph = gen_graph(test_df, start_node_text=\"Recruited samples\", )"
   ]
  },
  {
   "cell_type": "code",
   "execution_count": null,
   "id": "5bf4c5f0-044c-4b6b-a977-915b106e66a2",
   "metadata": {},
   "outputs": [],
   "source": []
  }
 ],
 "metadata": {
  "kernelspec": {
   "display_name": "Python 3 (ipykernel)",
   "language": "python",
   "name": "python3"
  },
  "language_info": {
   "codemirror_mode": {
    "name": "ipython",
    "version": 3
   },
   "file_extension": ".py",
   "mimetype": "text/x-python",
   "name": "python",
   "nbconvert_exporter": "python",
   "pygments_lexer": "ipython3",
   "version": "3.9.7"
  }
 },
 "nbformat": 4,
 "nbformat_minor": 5
}