{
 "cells": [
  {
   "cell_type": "markdown",
   "id": "4e9c04a2-877f-4796-bf4f-a4955fcb99e7",
   "metadata": {},
   "source": [
    "# It will try generate the inclusion diagram for a study based on a pandas dataframe \n",
    "\n",
    "The input will be a pandas dataframe of the format:\n",
    "PID (INT), CONDITIONS (Boleans) \n",
    "\n",
    "The output wil be: JS graph \n",
    "\n",
    "# Advanced add two list of labels as arguments\n",
    "1. For the remaining subjects (N)\n",
    "2. For the exclusion texts (N-1)\n",
    "\n",
    "To do:\n",
    "Add Final group generation and their labels"
   ]
  },
  {
   "cell_type": "code",
   "execution_count": 1,
   "id": "a6ccb385-4220-47f6-a520-7305b88d0888",
   "metadata": {},
   "outputs": [],
   "source": [
    "from pyflowchart import *\n",
    "import numpy as np\n",
    "import random\n",
    "import pandas as pd\n",
    "%load_ext autoreload\n",
    "%autoreload 2"
   ]
  },
  {
   "cell_type": "code",
   "execution_count": 2,
   "id": "382eaa05-46cc-466a-8f5a-736ed2667d90",
   "metadata": {},
   "outputs": [],
   "source": [
    "# 1. Make a two nodes that connects one to anothter"
   ]
  },
  {
   "cell_type": "code",
   "execution_count": 76,
   "id": "6826aa90-ad79-415f-91d7-968a2aa8b6e1",
   "metadata": {},
   "outputs": [],
   "source": [
    "num_sub = 100\n",
    "pid_col = np.random.choice(1000, num_sub, replace=False)\n",
    "calibration = np.random.rand(num_sub) < .9\n",
    "summary = np.random.rand(num_sub) < .9\n",
    "duration = np.random.rand(num_sub) < .9\n"
   ]
  },
  {
   "cell_type": "code",
   "execution_count": 77,
   "id": "519df6af-b30d-4076-9774-b323472a66cb",
   "metadata": {},
   "outputs": [],
   "source": [
    "test_df = pd.DataFrame({'pid': pid_col,\n",
    "                       'calibration': calibration,\n",
    "                       'summary': summary,\n",
    "                       'duration': duration})\n"
   ]
  },
  {
   "cell_type": "code",
   "execution_count": 78,
   "id": "4c62a5f2-9e6b-4ed1-bb8d-598f55c88555",
   "metadata": {},
   "outputs": [
    {
     "data": {
      "text/html": [
       "<div>\n",
       "<style scoped>\n",
       "    .dataframe tbody tr th:only-of-type {\n",
       "        vertical-align: middle;\n",
       "    }\n",
       "\n",
       "    .dataframe tbody tr th {\n",
       "        vertical-align: top;\n",
       "    }\n",
       "\n",
       "    .dataframe thead th {\n",
       "        text-align: right;\n",
       "    }\n",
       "</style>\n",
       "<table border=\"1\" class=\"dataframe\">\n",
       "  <thead>\n",
       "    <tr style=\"text-align: right;\">\n",
       "      <th></th>\n",
       "      <th>pid</th>\n",
       "      <th>calibration</th>\n",
       "      <th>summary</th>\n",
       "      <th>duration</th>\n",
       "    </tr>\n",
       "  </thead>\n",
       "  <tbody>\n",
       "    <tr>\n",
       "      <th>0</th>\n",
       "      <td>51</td>\n",
       "      <td>True</td>\n",
       "      <td>True</td>\n",
       "      <td>False</td>\n",
       "    </tr>\n",
       "    <tr>\n",
       "      <th>1</th>\n",
       "      <td>336</td>\n",
       "      <td>True</td>\n",
       "      <td>True</td>\n",
       "      <td>True</td>\n",
       "    </tr>\n",
       "    <tr>\n",
       "      <th>2</th>\n",
       "      <td>497</td>\n",
       "      <td>True</td>\n",
       "      <td>True</td>\n",
       "      <td>True</td>\n",
       "    </tr>\n",
       "    <tr>\n",
       "      <th>3</th>\n",
       "      <td>153</td>\n",
       "      <td>True</td>\n",
       "      <td>True</td>\n",
       "      <td>True</td>\n",
       "    </tr>\n",
       "    <tr>\n",
       "      <th>4</th>\n",
       "      <td>213</td>\n",
       "      <td>True</td>\n",
       "      <td>True</td>\n",
       "      <td>True</td>\n",
       "    </tr>\n",
       "  </tbody>\n",
       "</table>\n",
       "</div>"
      ],
      "text/plain": [
       "   pid  calibration  summary  duration\n",
       "0   51         True     True     False\n",
       "1  336         True     True      True\n",
       "2  497         True     True      True\n",
       "3  153         True     True      True\n",
       "4  213         True     True      True"
      ]
     },
     "execution_count": 78,
     "metadata": {},
     "output_type": "execute_result"
    }
   ],
   "source": [
    "test_df.head()"
   ]
  },
  {
   "cell_type": "code",
   "execution_count": 83,
   "id": "880d238f-dcd3-41f9-ad6c-46da33489b18",
   "metadata": {},
   "outputs": [],
   "source": [
    "from py-inclusion.core import gen_graph"
   ]
  },
  {
   "cell_type": "code",
   "execution_count": 85,
   "id": "afe96ae8-1534-4f30-84e4-1c5ab46b197c",
   "metadata": {},
   "outputs": [
    {
     "name": "stdout",
     "output_type": "stream",
     "text": [
      "[100, 94, 85, 75]\n",
      "[6, 9, 10]\n",
      "st354=>start: Recruited samples\n",
      " n=100\n",
      "cond356=>condition: Fulfilled condtions\n",
      " n=100\n",
      "cond358=>condition: Fulfilled condtions\n",
      " n=94\n",
      "cond360=>condition: Fulfilled condtions\n",
      " n=85\n",
      "e355=>end: Subjects included\n",
      " n=75\n",
      "op361=>operation: Excluded due to duration\n",
      " n=10\n",
      "op359=>operation: Excluded due to summary\n",
      " n=9\n",
      "op357=>operation: Excluded due to calibration\n",
      " n=6\n",
      "\n",
      "st354->cond356\n",
      "cond356->\n",
      "cond356->\n",
      "cond356(yes)->cond358\n",
      "cond358->\n",
      "cond358->\n",
      "cond358(yes)->cond360\n",
      "cond360->\n",
      "cond360->\n",
      "cond360(yes)->e355\n",
      "cond360(no)->op361\n",
      "cond358(no)->op359\n",
      "cond356(no)->op357\n",
      "\n"
     ]
    }
   ],
   "source": [
    "mygraph = gen_graph(test_df, start_node_text=\"Recruited samples\", )"
   ]
  },
  {
   "cell_type": "code",
   "execution_count": null,
   "id": "5bf4c5f0-044c-4b6b-a977-915b106e66a2",
   "metadata": {},
   "outputs": [],
   "source": []
  }
 ],
 "metadata": {
  "kernelspec": {
   "display_name": "Python 3 (ipykernel)",
   "language": "python",
   "name": "python3"
  },
  "language_info": {
   "codemirror_mode": {
    "name": "ipython",
    "version": 3
   },
   "file_extension": ".py",
   "mimetype": "text/x-python",
   "name": "python",
   "nbconvert_exporter": "python",
   "pygments_lexer": "ipython3",
   "version": "3.9.7"
  }
 },
 "nbformat": 4,
 "nbformat_minor": 5
}